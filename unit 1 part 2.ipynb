{
 "cells": [
  {
   "cell_type": "code",
   "execution_count": 1,
   "id": "22278331-ff34-412d-a77c-2d04a7e9be2d",
   "metadata": {},
   "outputs": [
    {
     "name": "stdout",
     "output_type": "stream",
     "text": [
      "0b101\n"
     ]
    }
   ],
   "source": [
    "a = 5\n",
    "bina = bin(a)\n",
    "print(bina)"
   ]
  },
  {
   "cell_type": "code",
   "execution_count": 3,
   "id": "d2a4a9ac-dd1c-474f-88f0-63ed06177c14",
   "metadata": {},
   "outputs": [
    {
     "ename": "SyntaxError",
     "evalue": "invalid syntax (77558405.py, line 2)",
     "output_type": "error",
     "traceback": [
      "\u001b[1;36m  Cell \u001b[1;32mIn[3], line 2\u001b[1;36m\u001b[0m\n\u001b[1;33m    binnnot a = bin(~a)\u001b[0m\n\u001b[1;37m            ^\u001b[0m\n\u001b[1;31mSyntaxError\u001b[0m\u001b[1;31m:\u001b[0m invalid syntax\n"
     ]
    }
   ],
   "source": [
    "~a\n",
    "binnnot a = bin(~a)\n",
    "print(binnot)"
   ]
  },
  {
   "cell_type": "code",
   "execution_count": 7,
   "id": "8f1154b6-493c-4821-9855-18e9f10ed424",
   "metadata": {},
   "outputs": [
    {
     "data": {
      "text/plain": [
       "(7, 7)"
      ]
     },
     "execution_count": 7,
     "metadata": {},
     "output_type": "execute_result"
    }
   ],
   "source": [
    "a = 6 # 1 1 0 \n",
    "b = 1 # 0 0 1\n",
    "c = a | b # 1 1 1\n",
    "d = a ^ b # xor \n",
    "c,d"
   ]
  },
  {
   "cell_type": "code",
   "execution_count": 9,
   "id": "e3a53d79-7948-473b-8556-fa4361cf8e6d",
   "metadata": {},
   "outputs": [
    {
     "ename": "SyntaxError",
     "evalue": "invalid syntax (3549217721.py, line 2)",
     "output_type": "error",
     "traceback": [
      "\u001b[1;36m  Cell \u001b[1;32mIn[9], line 2\u001b[1;36m\u001b[0m\n\u001b[1;33m    0 0 0\u001b[0m\n\u001b[1;37m      ^\u001b[0m\n\u001b[1;31mSyntaxError\u001b[0m\u001b[1;31m:\u001b[0m invalid syntax\n"
     ]
    }
   ],
   "source": [
    "# a b c = xor(a,b)\n",
    "0 0 0\n",
    "0 1 1\n",
    "1 0 1\n",
    "1 1 0"
   ]
  },
  {
   "cell_type": "code",
   "execution_count": 20,
   "id": "389771df-13df-45f8-a868-e01ad5af3735",
   "metadata": {},
   "outputs": [
    {
     "name": "stdout",
     "output_type": "stream",
     "text": [
      "512\n"
     ]
    }
   ],
   "source": [
    "a = 128\n",
    "rshifta = a  << 2 # right shift \n",
    "print(rshifta)"
   ]
  },
  {
   "cell_type": "code",
   "execution_count": 22,
   "id": "adae4d01-d1b0-47ee-9a06-f3d0ac061335",
   "metadata": {},
   "outputs": [
    {
     "name": "stdout",
     "output_type": "stream",
     "text": [
      "512 0b1000000000\n"
     ]
    }
   ],
   "source": [
    "a = 128\n",
    "rshifta = a  << 2 # right shift \n",
    "print(rshifta , bin(rshifta))"
   ]
  },
  {
   "cell_type": "code",
   "execution_count": 24,
   "id": "f62d594c-b9c9-4739-a591-7dc212a89b98",
   "metadata": {},
   "outputs": [
    {
     "name": "stdout",
     "output_type": "stream",
     "text": [
      " decimalvalue 512 and its binary value is 0b1000000000\n"
     ]
    }
   ],
   "source": [
    "a = 128\n",
    "rshifta = a  << 2 # right shift \n",
    "print(f\" decimalvalue { rshifta } and its binary value is { bin(rshifta)}\")"
   ]
  },
  {
   "cell_type": "code",
   "execution_count": 26,
   "id": "aef50843-0a7b-43eb-8db5-f8bf3def502b",
   "metadata": {},
   "outputs": [
    {
     "data": {
      "text/plain": [
       "'0'"
      ]
     },
     "execution_count": 26,
     "metadata": {},
     "output_type": "execute_result"
    }
   ],
   "source": [
    "a = \"0 1 2 3 4 5 6 7 8 9\"\n",
    "a[0]"
   ]
  },
  {
   "cell_type": "code",
   "execution_count": 28,
   "id": "b5a40f4d-8dae-487d-87f4-1717502fb8cb",
   "metadata": {},
   "outputs": [
    {
     "data": {
      "text/plain": [
       "' '"
      ]
     },
     "execution_count": 28,
     "metadata": {},
     "output_type": "execute_result"
    }
   ],
   "source": [
    "a[1]"
   ]
  },
  {
   "cell_type": "code",
   "execution_count": 30,
   "id": "9bd3460f-b487-490f-82aa-6203980c9e2b",
   "metadata": {},
   "outputs": [
    {
     "data": {
      "text/plain": [
       "'1'"
      ]
     },
     "execution_count": 30,
     "metadata": {},
     "output_type": "execute_result"
    }
   ],
   "source": [
    "a[2]"
   ]
  },
  {
   "cell_type": "code",
   "execution_count": 36,
   "id": "380f6357-d38b-4740-85e9-5cad2d0a4c70",
   "metadata": {},
   "outputs": [
    {
     "data": {
      "text/plain": [
       "'5'"
      ]
     },
     "execution_count": 36,
     "metadata": {},
     "output_type": "execute_result"
    }
   ],
   "source": [
    "a[10]"
   ]
  },
  {
   "cell_type": "code",
   "execution_count": 38,
   "id": "b852ac58-114c-4880-a46e-b587a09c42eb",
   "metadata": {},
   "outputs": [
    {
     "data": {
      "text/plain": [
       "'0 1 2 3 4 5 6 7'"
      ]
     },
     "execution_count": 38,
     "metadata": {},
     "output_type": "execute_result"
    }
   ],
   "source": [
    "a[0 : 15]"
   ]
  },
  {
   "cell_type": "code",
   "execution_count": 40,
   "id": "21464e2d-5550-4c92-b199-3a5ce46ab052",
   "metadata": {},
   "outputs": [
    {
     "data": {
      "text/plain": [
       "19"
      ]
     },
     "execution_count": 40,
     "metadata": {},
     "output_type": "execute_result"
    }
   ],
   "source": [
    "len(a)"
   ]
  },
  {
   "cell_type": "code",
   "execution_count": 42,
   "id": "cbb588e7-fc92-4679-82d1-51e5efb6c44d",
   "metadata": {},
   "outputs": [
    {
     "data": {
      "text/plain": [
       "'0 1 2 3 4 5 6 7 8 9'"
      ]
     },
     "execution_count": 42,
     "metadata": {},
     "output_type": "execute_result"
    }
   ],
   "source": [
    "a[0 : len(a)]"
   ]
  },
  {
   "cell_type": "code",
   "execution_count": null,
   "id": "bdb555e4-58e4-476c-bdf2-b2388883361d",
   "metadata": {},
   "outputs": [],
   "source": []
  }
 ],
 "metadata": {
  "kernelspec": {
   "display_name": "Python 3 (ipykernel)",
   "language": "python",
   "name": "python3"
  },
  "language_info": {
   "codemirror_mode": {
    "name": "ipython",
    "version": 3
   },
   "file_extension": ".py",
   "mimetype": "text/x-python",
   "name": "python",
   "nbconvert_exporter": "python",
   "pygments_lexer": "ipython3",
   "version": "3.12.4"
  }
 },
 "nbformat": 4,
 "nbformat_minor": 5
}
