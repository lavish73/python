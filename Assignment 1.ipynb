{
 "cells": [
  {
   "cell_type": "code",
   "execution_count": null,
   "id": "be9fe863-abcb-441f-8c6b-6592ad58b903",
   "metadata": {},
   "outputs": [],
   "source": []
  },
  {
   "cell_type": "code",
   "execution_count": 1,
   "id": "32ec282a-0190-4ad0-a628-0cb12bfca109",
   "metadata": {},
   "outputs": [
    {
     "name": "stdin",
     "output_type": "stream",
     "text": [
      "Entre Your First Name:  Lavish\n",
      "Enter Your Last Name : Pal\n"
     ]
    },
    {
     "name": "stdout",
     "output_type": "stream",
     "text": [
      "Full Name : Pal Lavish\n"
     ]
    }
   ],
   "source": [
    "# PART 02\n",
    "#1 String Operation\n",
    "#Write a python program that takes a user's first and last name as input and print them in reverse order with a space between them\n",
    "\n",
    "#taking User Input\n",
    "first_name = input(\"Entre Your First Name: \")\n",
    "last_name = input(\"Enter Your Last Name :\")\n",
    "#printing two string together to get required output\n",
    "full_name = print(f\"Full Name : {last_name} {first_name}\")"
   ]
  },
  {
   "cell_type": "code",
   "execution_count": 3,
   "id": "7826ef59-c32f-4984-af46-5725cc2f624a",
   "metadata": {},
   "outputs": [
    {
     "name": "stdin",
     "output_type": "stream",
     "text": [
      "Enter Number :  98\n"
     ]
    },
    {
     "name": "stdout",
     "output_type": "stream",
     "text": [
      "Integer represent of Number 98\n",
      "Float represent of Number 98.0\n",
      "Complex represent of Number (98+0j)\n"
     ]
    }
   ],
   "source": [
    "# 2 Numeric Data Types and conversion Function\n",
    "# write a python program that takes an input number from the user, converts it to different numeric data types(integer, flaot, and complex), \n",
    "# and display the convert values\n",
    "\n",
    "#taking User Input Number\n",
    "number = input(\"Enter Number : \")\n",
    "\n",
    "#Integer is data type that represents whole numbers without a fractional part.\n",
    "int_Number = print(f\"Integer represent of Number {int(number)}\")\n",
    "\n",
    "#float is data type that represents a real number with a decimal point\n",
    "float_Number = print(f\"Float represent of Number {float(number)}\")\n",
    "\n",
    "#Complex is a data type that represents numbers in the form 'a + bj', where 'a' is the real part and 'b' is the imaginary part.\n",
    "complex_Number = print(f\"Complex represent of Number {complex(number)}\")"
   ]
  },
  {
   "cell_type": "code",
   "execution_count": 5,
   "id": "9c261555-1f19-4db4-a5c6-deddc1158d8a",
   "metadata": {},
   "outputs": [
    {
     "name": "stdin",
     "output_type": "stream",
     "text": [
      "Enter A Length :  25\n",
      "Enter A Breadth :  98\n"
     ]
    },
    {
     "name": "stdout",
     "output_type": "stream",
     "text": [
      "Area of Rectangle :2450.0\n",
      "Area of Rectangle: 2450.0\n"
     ]
    }
   ],
   "source": [
    "# 3 Simple Input and Output \n",
    "#Create a python script that calculates the area of a rectangle.\n",
    "\n",
    "#taking user input\n",
    "length = float(input(\"Enter A Length : \"))\n",
    "breadth = float(input(\"Enter A Breadth : \"))\n",
    "\n",
    "#Calculating  Area of rectangle\n",
    "Rectangle_Area = length * breadth\n",
    "\n",
    "#print Output\n",
    "print(f\"Area of Rectangle :{Rectangle_Area}\")\n",
    "\n",
    "# Convert the area to a string\n",
    "converttostr = str(Rectangle_Area)\n",
    "\n",
    "# Using the format function\n",
    "fstr = \"Area of Rectangle: {}\"\n",
    "\n",
    "# Corrected print statement\n",
    "print(fstr.format(converttostr))\n"
   ]
  },
  {
   "cell_type": "code",
   "execution_count": 7,
   "id": "3807f67e-8f7f-4df5-956c-203a07014a96",
   "metadata": {},
   "outputs": [
    {
     "name": "stdin",
     "output_type": "stream",
     "text": [
      "Enter First Number :  25.3\n",
      "Enter Second Number :  29.7\n",
      "Enter Third Number :  98.56\n"
     ]
    },
    {
     "name": "stdout",
     "output_type": "stream",
     "text": [
      "The average of the three numbers is: 51.19\n"
     ]
    }
   ],
   "source": [
    "# 4 The % Method and print function\n",
    "#write a python script that takes three numbers as input and prints their average using the % method for string formatting\n",
    "\n",
    "#Taking A first Value \n",
    "first_num = float(input(\"Enter First Number : \"))\n",
    "#Taking A Second Value\n",
    "second_num = float(input(\"Enter Second Number : \"))\n",
    "#Taking A Third Value\n",
    "third_num = float(input(\"Enter Third Number : \"))\n",
    "\n",
    "avg = (first_num + second_num + third_num) / 3\n",
    "\n",
    "# Print the average using the % method for string formatting\n",
    "print(\"The average of the three numbers is: %.2f\" % avg)"
   ]
  },
  {
   "cell_type": "code",
   "execution_count": 11,
   "id": "14dbfbdb-f186-468a-b460-7be2281f66a5",
   "metadata": {},
   "outputs": [
    {
     "name": "stdin",
     "output_type": "stream",
     "text": [
      "Enter a number (or type 'exit' to quit):  89\n"
     ]
    },
    {
     "name": "stdout",
     "output_type": "stream",
     "text": [
      "The Number is Positive\n"
     ]
    },
    {
     "name": "stdin",
     "output_type": "stream",
     "text": [
      "Enter a number (or type 'exit' to quit):  -96\n"
     ]
    },
    {
     "name": "stdout",
     "output_type": "stream",
     "text": [
      "The Number is Negative\n"
     ]
    },
    {
     "name": "stdin",
     "output_type": "stream",
     "text": [
      "Enter a number (or type 'exit' to quit):  0\n"
     ]
    },
    {
     "name": "stdout",
     "output_type": "stream",
     "text": [
      "The Number is Zero\n"
     ]
    },
    {
     "name": "stdin",
     "output_type": "stream",
     "text": [
      "Enter a number (or type 'exit' to quit):  EXIT\n"
     ]
    }
   ],
   "source": [
    "# PART 03.\n",
    "# 1 control Flow (If Statements and loop)\n",
    "#write a python program that asks the user for a number and determine whether it is positive, negative, or zero\n",
    "\n",
    "#while run till break statement not execute\n",
    "while True:\n",
    "    user_input = input(\"Enter a number (or type 'exit' to quit): \")\n",
    "\n",
    "    if user_input.lower() == 'exit':\n",
    "        break\n",
    "    #Chceking if user enter invalid input\n",
    "    try:\n",
    "        #convert to float\n",
    "        number = float(user_input)\n",
    "    \n",
    "        if number > 0:\n",
    "            print(\"The Number is Positive\")\n",
    "        elif number < 0:\n",
    "            print(\"The Number is Negative\")\n",
    "        else:\n",
    "            print(\"The Number is Zero\")\n",
    "    except ValueError:\n",
    "        print(\"Invalid input. please enter a valid number or 'exit' to quit\")"
   ]
  },
  {
   "cell_type": "code",
   "execution_count": 17,
   "id": "87da53ad-fb08-4b4c-b24f-68ac79f64cb8",
   "metadata": {},
   "outputs": [
    {
     "name": "stdin",
     "output_type": "stream",
     "text": [
      "Enter the first number :  49\n",
      "Enter the second number :  59\n"
     ]
    },
    {
     "name": "stdout",
     "output_type": "stream",
     "text": [
      "Both Number are Odd\n"
     ]
    }
   ],
   "source": [
    "#2 Relational and logical Operator\n",
    "# Create a python script that takes two numbers as input and print whether both number are even, odd, or one of each using relation and logical operators\n",
    "#Taking user input\n",
    "num1 = int(input(\"Enter the first number : \"))\n",
    "num2 = int(input(\"Enter the second number : \"))\n",
    "\n",
    "#check the two numbre where both are even, odd or one even and 1 odd\n",
    "#check for both are Even number\n",
    "if num1 % 2 == 0 and num2 % 2 == 0:\n",
    "    print(\"Both Number are Even\")\n",
    "#check for both are Odd number\n",
    "elif num1 % 2 != 0 and num2 % 2 != 0:\n",
    "    print(\"Both Number are Odd\")\n",
    "#check for one is even and other is odd\n",
    "else:\n",
    "    print(\"One number is Even and the other is Odd\")"
   ]
  },
  {
   "cell_type": "code",
   "execution_count": 19,
   "id": "f4b45e29-5177-4b7f-9628-5ddf7c462d39",
   "metadata": {},
   "outputs": [
    {
     "name": "stdin",
     "output_type": "stream",
     "text": [
      "Enter an integer:  80\n"
     ]
    },
    {
     "name": "stdout",
     "output_type": "stream",
     "text": [
      "Binary: 1010000\n",
      "Octal: 120\n",
      "Hexadecimal: 50\n"
     ]
    }
   ],
   "source": [
    "# 3 For Loop and Bitwise Operators\n",
    "# Write a python program that takes an integer input and prints its binary, octal, and hexadecimal equivalents using a for loop and bitwise operators\n",
    "def print_equivalents(n):\n",
    "      \n",
    "    bases = [2, 8, 16]  # List of bases\n",
    "    base_names = ['Binary', 'Octal', 'Hexadecimal']  # names for each base.\n",
    "    \n",
    "    # Loop over each base to convert the number\n",
    "    for i in range(3):\n",
    "        base = bases[i]  #(2, 8, 16)\n",
    "        name = base_names[i]  # (Binary, Octal, or Hexadecimal).\n",
    "        \n",
    "        result = \"\"  # String to store the converted number in the current base.\n",
    "        num = n  # Copy of the original number for manipulation.\n",
    "        \n",
    "        if num == 0:\n",
    "            result = \"0\"  # If the number is 0\n",
    "        else:\n",
    "            while num > 0:\n",
    "                remainder = num % base  # Find the remainder when num is divided by the base\n",
    "                \n",
    "                # Convert remainder to appropriate character for hexadecimal.\n",
    "                if base == 16 and remainder >= 10:\n",
    "                    result = chr(remainder + 87) + result  # Convert to 'a' to 'f' for 10 to 15.\n",
    "                else:\n",
    "                    result = str(remainder) + result  # Convert to string and prepend to result.\n",
    "                \n",
    "                num //= base  # Update num by dividing it by the base (integer division).\n",
    "        \n",
    "        # Print the base name and the corresponding result.\n",
    "        print(f\"{name}: {result}\")\n",
    "\n",
    "# Main program execution starts here.\n",
    "# The user is prompted to input an integer.\n",
    "n = int(input(\"Enter an integer: \"))\n",
    "\n",
    "# The function then prints the binary, octal, and hexadecimal equivalents of the entered integer.\n",
    "print_equivalents(n)"
   ]
  },
  {
   "cell_type": "code",
   "execution_count": null,
   "id": "98476d11-5aee-42e9-a4f5-1e9138ce8e0f",
   "metadata": {},
   "outputs": [],
   "source": []
  }
 ],
 "metadata": {
  "kernelspec": {
   "display_name": "Python 3 (ipykernel)",
   "language": "python",
   "name": "python3"
  },
  "language_info": {
   "codemirror_mode": {
    "name": "ipython",
    "version": 3
   },
   "file_extension": ".py",
   "mimetype": "text/x-python",
   "name": "python",
   "nbconvert_exporter": "python",
   "pygments_lexer": "ipython3",
   "version": "3.12.4"
  }
 },
 "nbformat": 4,
 "nbformat_minor": 5
}
