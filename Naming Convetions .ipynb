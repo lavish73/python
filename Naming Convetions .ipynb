{
 "cells": [
  {
   "cell_type": "code",
   "execution_count": 11,
   "id": "302909f6-0b52-4424-b6a4-444a106a9bfb",
   "metadata": {},
   "outputs": [
    {
     "name": "stdout",
     "output_type": "stream",
     "text": [
      "[0]\n",
      "['badminton', 'football', 'cricket', 'badminton']\n",
      "['badminton', 'football', 'badminton']\n"
     ]
    }
   ],
   "source": [
    "# Creating a list of fruits\n",
    "\n",
    "games = [\"badminton\", \"football\", \"cricket\"] \n",
    "\n",
    "\n",
    "print([0])  \n",
    "\n",
    "games.append (\"badminton\")\n",
    "print(games)  \n",
    "\n",
    "\n",
    "games.remove(\"cricket\")\n",
    "print(games)  "
   ]
  },
  {
   "cell_type": "code",
   "execution_count": 13,
   "id": "862a67bc-e6bd-4f2a-8a28-b48d7db6ba1f",
   "metadata": {},
   "outputs": [
    {
     "data": {
      "text/plain": [
       "(['badminton', 'football', 'cricket'], 2360968670912, list)"
      ]
     },
     "execution_count": 13,
     "metadata": {},
     "output_type": "execute_result"
    }
   ],
   "source": [
    "\n",
    "list1 = [\"badminton\", \"football\", \"cricket\"] \n",
    "list1, id(list1), type(list1)"
   ]
  },
  {
   "cell_type": "code",
   "execution_count": 15,
   "id": "588c1215-9695-455f-8849-0e6226049f34",
   "metadata": {},
   "outputs": [
    {
     "data": {
      "text/plain": [
       "(['badminton', 'football', 'cricket', 10], 2360968670912, list)"
      ]
     },
     "execution_count": 15,
     "metadata": {},
     "output_type": "execute_result"
    }
   ],
   "source": [
    "list1.append(10)\n",
    "list1, id(list1), type(list1)"
   ]
  },
  {
   "cell_type": "code",
   "execution_count": 17,
   "id": "4aef8ca3-4222-4306-8368-64677c0fc007",
   "metadata": {},
   "outputs": [
    {
     "data": {
      "text/plain": [
       "(['badminton', 'football', 'cricket'], 2360968670912, list)"
      ]
     },
     "execution_count": 17,
     "metadata": {},
     "output_type": "execute_result"
    }
   ],
   "source": [
    "list1.remove(10)\n",
    "list1, id(list1), type(list1)"
   ]
  },
  {
   "cell_type": "code",
   "execution_count": 23,
   "id": "97699a75-2ccf-4f5a-8b5a-22026cc8f22d",
   "metadata": {},
   "outputs": [],
   "source": [
    "tuple1 = ( 1,2,3)"
   ]
  },
  {
   "cell_type": "code",
   "execution_count": 25,
   "id": "af4d7b2d-03db-43db-a21d-900705769a5a",
   "metadata": {},
   "outputs": [
    {
     "data": {
      "text/plain": [
       "((1, 2, 3), 2360968807744)"
      ]
     },
     "execution_count": 25,
     "metadata": {},
     "output_type": "execute_result"
    }
   ],
   "source": [
    "tuple1, id(tuple1)"
   ]
  },
  {
   "cell_type": "code",
   "execution_count": 27,
   "id": "8a4cc09d-5b72-4916-b7cd-3f2c63d2202f",
   "metadata": {},
   "outputs": [
    {
     "data": {
      "text/plain": [
       "2"
      ]
     },
     "execution_count": 27,
     "metadata": {},
     "output_type": "execute_result"
    }
   ],
   "source": [
    "tuple1[1]"
   ]
  },
  {
   "cell_type": "code",
   "execution_count": 29,
   "id": "2ad02ace-308a-423e-b339-5d9399a61647",
   "metadata": {
    "editable": true,
    "slideshow": {
     "slide_type": ""
    },
    "tags": []
   },
   "outputs": [
    {
     "name": "stdout",
     "output_type": "stream",
     "text": [
      "Help on tuple object:\n",
      "\n",
      "class tuple(object)\n",
      " |  tuple(iterable=(), /)\n",
      " |\n",
      " |  Built-in immutable sequence.\n",
      " |\n",
      " |  If no argument is given, the constructor returns an empty tuple.\n",
      " |  If iterable is specified the tuple is initialized from iterable's items.\n",
      " |\n",
      " |  If the argument is a tuple, the return value is the same object.\n",
      " |\n",
      " |  Built-in subclasses:\n",
      " |      asyncgen_hooks\n",
      " |      MonthDayNano\n",
      " |      UnraisableHookArgs\n",
      " |\n",
      " |  Methods defined here:\n",
      " |\n",
      " |  __add__(self, value, /)\n",
      " |      Return self+value.\n",
      " |\n",
      " |  __contains__(self, key, /)\n",
      " |      Return bool(key in self).\n",
      " |\n",
      " |  __eq__(self, value, /)\n",
      " |      Return self==value.\n",
      " |\n",
      " |  __ge__(self, value, /)\n",
      " |      Return self>=value.\n",
      " |\n",
      " |  __getattribute__(self, name, /)\n",
      " |      Return getattr(self, name).\n",
      " |\n",
      " |  __getitem__(self, key, /)\n",
      " |      Return self[key].\n",
      " |\n",
      " |  __getnewargs__(self, /)\n",
      " |\n",
      " |  __gt__(self, value, /)\n",
      " |      Return self>value.\n",
      " |\n",
      " |  __hash__(self, /)\n",
      " |      Return hash(self).\n",
      " |\n",
      " |  __iter__(self, /)\n",
      " |      Implement iter(self).\n",
      " |\n",
      " |  __le__(self, value, /)\n",
      " |      Return self<=value.\n",
      " |\n",
      " |  __len__(self, /)\n",
      " |      Return len(self).\n",
      " |\n",
      " |  __lt__(self, value, /)\n",
      " |      Return self<value.\n",
      " |\n",
      " |  __mul__(self, value, /)\n",
      " |      Return self*value.\n",
      " |\n",
      " |  __ne__(self, value, /)\n",
      " |      Return self!=value.\n",
      " |\n",
      " |  __repr__(self, /)\n",
      " |      Return repr(self).\n",
      " |\n",
      " |  __rmul__(self, value, /)\n",
      " |      Return value*self.\n",
      " |\n",
      " |  count(self, value, /)\n",
      " |      Return number of occurrences of value.\n",
      " |\n",
      " |  index(self, value, start=0, stop=9223372036854775807, /)\n",
      " |      Return first index of value.\n",
      " |\n",
      " |      Raises ValueError if the value is not present.\n",
      " |\n",
      " |  ----------------------------------------------------------------------\n",
      " |  Class methods defined here:\n",
      " |\n",
      " |  __class_getitem__(...)\n",
      " |      See PEP 585\n",
      " |\n",
      " |  ----------------------------------------------------------------------\n",
      " |  Static methods defined here:\n",
      " |\n",
      " |  __new__(*args, **kwargs)\n",
      " |      Create and return a new object.  See help(type) for accurate signature.\n",
      "\n"
     ]
    }
   ],
   "source": [
    "help(tuple1)"
   ]
  },
  {
   "cell_type": "code",
   "execution_count": 33,
   "id": "e3a9de91-6859-44f5-82e9-c6f381427ec1",
   "metadata": {},
   "outputs": [
    {
     "data": {
      "text/plain": [
       "'Hi'"
      ]
     },
     "execution_count": 33,
     "metadata": {},
     "output_type": "execute_result"
    }
   ],
   "source": [
    "string = \"Hii python\"\n",
    "\n",
    "string[0 : 2]"
   ]
  },
  {
   "cell_type": "code",
   "execution_count": 47,
   "id": "382392bd-0775-4f0d-874c-b165befb705f",
   "metadata": {},
   "outputs": [
    {
     "name": "stdout",
     "output_type": "stream",
     "text": [
      "10\n"
     ]
    },
    {
     "data": {
      "text/plain": [
       "'Hii python'"
      ]
     },
     "execution_count": 47,
     "metadata": {},
     "output_type": "execute_result"
    }
   ],
   "source": [
    "string = \"Hii python\"\n",
    "lenstr = len(string)\n",
    "print(lenstr)\n",
    "string[0 : 10]"
   ]
  },
  {
   "cell_type": "code",
   "execution_count": 45,
   "id": "dbab047f-3d63-4191-ab38-f8e1c5ba1d10",
   "metadata": {},
   "outputs": [
    {
     "name": "stdout",
     "output_type": "stream",
     "text": [
      "H\n",
      "i\n",
      "i\n",
      " \n",
      "P\n",
      "y\n",
      "t\n",
      "h\n",
      "o\n",
      "n\n"
     ]
    }
   ],
   "source": [
    "string = \"Hii Python\"\n",
    "lenstr = len(string)\n",
    "#print(lenstr)\n",
    "string[0 : 10]\n",
    "\n",
    "for i in range (0 , len(string)):\n",
    "    print(string[i])"
   ]
  },
  {
   "cell_type": "code",
   "execution_count": 51,
   "id": "b4761f1a-3929-4350-adef-87759e0431e8",
   "metadata": {},
   "outputs": [
    {
     "name": "stdout",
     "output_type": "stream",
     "text": [
      "['a', 'e', 'i', 'o', 'u']\n"
     ]
    }
   ],
   "source": [
    "vowels = [\"a\", \"e\" , \"i\" , \"o\" , \"u\"]\n",
    "print(vowels)"
   ]
  },
  {
   "cell_type": "code",
   "execution_count": 59,
   "id": "2f727fea-9476-4335-8f70-b3a5dcda2795",
   "metadata": {},
   "outputs": [
    {
     "name": "stdout",
     "output_type": "stream",
     "text": [
      "{'Name': 'Lavish'}\n"
     ]
    }
   ],
   "source": [
    "#dictionary similar to sets \n",
    "\n",
    "Dict1 = {\n",
    "    \"Name\":\"Lavish\"\n",
    "}\n",
    "print(Dict1)"
   ]
  },
  {
   "cell_type": "code",
   "execution_count": 69,
   "id": "7435a304-ceab-4b6f-b117-b9451bc81680",
   "metadata": {},
   "outputs": [
    {
     "name": "stdout",
     "output_type": "stream",
     "text": [
      "Lavish\n"
     ]
    }
   ],
   "source": [
    "#dictionary similar to sets \n",
    "\n",
    "Dict1 = {\n",
    "    \"Name\":\"Lavish\", \n",
    "    \"key1\":\"val1\",\n",
    "    \"key2\":\"val2\",\n",
    "    \n",
    "    \"fname\":\"Lavish\",\n",
    "    \"key1\":\"val1\",\n",
    "    \"key2\":\"val2\",\n",
    "}\n",
    "\n",
    "print(Dict1[\"fname\"])"
   ]
  },
  {
   "cell_type": "code",
   "execution_count": 77,
   "id": "67bf13ab-48e3-47cf-bff5-61cb6948860e",
   "metadata": {},
   "outputs": [
    {
     "name": "stdout",
     "output_type": "stream",
     "text": [
      "key is Namevalue is Lavish\n",
      "key is key1value is val1\n",
      "key is key2value is val2\n",
      "key is fnamevalue is Lavish\n"
     ]
    }
   ],
   "source": [
    "for key , val in Dict1.items():\n",
    "    print(\"key is \" + key + \"value is \" + val)"
   ]
  },
  {
   "cell_type": "code",
   "execution_count": 83,
   "id": "17aae77d-594e-4fff-aef3-eb8909391299",
   "metadata": {},
   "outputs": [
    {
     "name": "stdout",
     "output_type": "stream",
     "text": [
      " key is { } value is \n",
      "key is fname vlue is \n"
     ]
    }
   ],
   "source": [
    "fstr = \" key is { } value is \"\n",
    "print(fstr)\n",
    "\n",
    "fstr2 = f\"key is { key } vlue is \" \n",
    "print(fstr2)"
   ]
  },
  {
   "cell_type": "code",
   "execution_count": 87,
   "id": "1b69161c-5d70-42a5-af26-ffc5ef6ed570",
   "metadata": {},
   "outputs": [
    {
     "data": {
      "text/plain": [
       "([[1, 2], [3, 4]], 2)"
      ]
     },
     "execution_count": 87,
     "metadata": {},
     "output_type": "execute_result"
    }
   ],
   "source": [
    "Row1 = [ 1, 2 ]\n",
    "Row2 = [ 3, 4 ]\n",
    "matrix = [ Row1, Row2 ]\n",
    "matrix, len(matrix)"
   ]
  },
  {
   "cell_type": "code",
   "execution_count": 89,
   "id": "6257f7bd-1c6e-483f-80d4-f0ff8c6fbb2a",
   "metadata": {},
   "outputs": [
    {
     "data": {
      "text/plain": [
       "1"
      ]
     },
     "execution_count": 89,
     "metadata": {},
     "output_type": "execute_result"
    }
   ],
   "source": [
    "matrix[0][0]"
   ]
  },
  {
   "cell_type": "code",
   "execution_count": 91,
   "id": "8cc0f0e6-749f-42e0-aabd-bdae9476cd7b",
   "metadata": {},
   "outputs": [
    {
     "data": {
      "text/plain": [
       "[1, 2]"
      ]
     },
     "execution_count": 91,
     "metadata": {},
     "output_type": "execute_result"
    }
   ],
   "source": [
    "matrix[0]"
   ]
  },
  {
   "cell_type": "code",
   "execution_count": 93,
   "id": "a919e980-d41a-45b1-8e7b-859d4faab6f5",
   "metadata": {},
   "outputs": [],
   "source": [
    "matrix[0] = 10"
   ]
  },
  {
   "cell_type": "code",
   "execution_count": 95,
   "id": "8e09e50e-92ae-4287-a6c6-a65617394c8d",
   "metadata": {},
   "outputs": [
    {
     "data": {
      "text/plain": [
       "[10, [3, 4]]"
      ]
     },
     "execution_count": 95,
     "metadata": {},
     "output_type": "execute_result"
    }
   ],
   "source": [
    "matrix"
   ]
  },
  {
   "cell_type": "code",
   "execution_count": null,
   "id": "c05e9d07-2401-4239-b061-9c07ebb44993",
   "metadata": {},
   "outputs": [],
   "source": [
    "list3_3 = [ ]\n"
   ]
  }
 ],
 "metadata": {
  "kernelspec": {
   "display_name": "Python 3 (ipykernel)",
   "language": "python",
   "name": "python3"
  },
  "language_info": {
   "codemirror_mode": {
    "name": "ipython",
    "version": 3
   },
   "file_extension": ".py",
   "mimetype": "text/x-python",
   "name": "python",
   "nbconvert_exporter": "python",
   "pygments_lexer": "ipython3",
   "version": "3.12.4"
  }
 },
 "nbformat": 4,
 "nbformat_minor": 5
}
