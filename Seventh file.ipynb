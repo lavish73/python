{
 "cells": [
  {
   "cell_type": "code",
   "execution_count": 3,
   "id": "8741f968-6797-45d1-a161-9bb33290a049",
   "metadata": {},
   "outputs": [
    {
     "data": {
      "text/plain": [
       "['159@stu.upes.ac.in',\n",
       " '564@stu.upes.ac.in',\n",
       " '357@stu.upes.ac.in',\n",
       " '565@stu.upes.ac.in',\n",
       " '486@stu.upes.ac.in',\n",
       " '489@stu.upes.ac.in',\n",
       " '102@stu.upes.ac.in',\n",
       " '861@stu.upes.ac.in']"
      ]
     },
     "execution_count": 3,
     "metadata": {},
     "output_type": "execute_result"
    }
   ],
   "source": [
    "#write a program that takes a \n",
    "#list of snap ids and return a list of email addresses\n",
    "\n",
    "#input\n",
    "list = [159,\"564\",\"357\",565,\"486\",\"489\",\"102\",\"861\"]\n",
    "list2 = []\n",
    "\n",
    "#output\n",
    "\n",
    "def generate_email_addresses():\n",
    "    #for loop to print a list\n",
    "    for i in list:    \n",
    "        #sting concetition of list + @stu.upes.ac.in\n",
    "        temp = str(i)+\"@stu.upes.ac.in\"        \n",
    "        #append to new list \n",
    "        list2.append(temp)  \n",
    "    #return list2 with all the element\n",
    "    return list2    \n",
    "\n",
    "generate_email_addresses()"
   ]
  },
  {
   "cell_type": "code",
   "execution_count": null,
   "id": "ddccb245-c65c-4d68-b7d8-b6dd38866c9c",
   "metadata": {},
   "outputs": [],
   "source": []
  }
 ],
 "metadata": {
  "kernelspec": {
   "display_name": "Python 3 (ipykernel)",
   "language": "python",
   "name": "python3"
  },
  "language_info": {
   "codemirror_mode": {
    "name": "ipython",
    "version": 3
   },
   "file_extension": ".py",
   "mimetype": "text/x-python",
   "name": "python",
   "nbconvert_exporter": "python",
   "pygments_lexer": "ipython3",
   "version": "3.12.4"
  }
 },
 "nbformat": 4,
 "nbformat_minor": 5
}
