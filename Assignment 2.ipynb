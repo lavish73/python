{
 "cells": [
  {
   "cell_type": "code",
   "execution_count": 3,
   "id": "2ed9afa3-0375-4690-bf9b-04d56397a26d",
   "metadata": {},
   "outputs": [
    {
     "name": "stdout",
     "output_type": "stream",
     "text": [
      "Hello, Lavish!\n",
      "Hi, Dev!\n"
     ]
    }
   ],
   "source": [
    "def greet(name, greeting=\"Hello\"):\n",
    "    return f\"{greeting}, {name}!\"\n",
    "\n",
    "# Example usage:\n",
    "print(greet(\"Lavish\"))            # Output: Hello, Lavish!\n",
    "print(greet(\"Dev\", \"Hi\"))       # Output: Hi, Dev!\n"
   ]
  },
  {
   "cell_type": "code",
   "execution_count": 23,
   "id": "47f463d1-9552-47a6-878a-abb01522c3dd",
   "metadata": {},
   "outputs": [
    {
     "name": "stdout",
     "output_type": "stream",
     "text": [
      "name: Lavish age: 23 city: Rishikesh\n"
     ]
    }
   ],
   "source": [
    "def create_profile(name, age, city):\n",
    "    return f\"name: {name} age: {age} city: {city}\"\n",
    "\n",
    "# Example \n",
    "profile = create_profile(name=\"Lavish\", age=23, city=\"Rishikesh\")\n",
    "print(profile)"
   ]
  },
  {
   "cell_type": "code",
   "execution_count": 4,
   "id": "0b1395e9-0304-47f7-af40-c3a896533f57",
   "metadata": {},
   "outputs": [
    {
     "data": {
      "text/plain": [
       "(3, {'x': 4, 'y': 5})"
      ]
     },
     "execution_count": 4,
     "metadata": {},
     "output_type": "execute_result"
    }
   ],
   "source": [
    "#Program 3 **Using *args and Kwargs\n",
    "def sum_numbers(*args, **kwargs):\n",
    "    # Sum of all *args if they are numbers\n",
    "    sum_of_args = sum(arg for arg in args if isinstance(arg, (int, float)))\n",
    "    \n",
    "    # Return a dictionary of all keyword arguments\n",
    "    return sum_of_args, kwargs\n",
    "sum_numbers(1,2,3,)\n",
    "sum_numbers(1,2,x=4,y=5)\n"
   ]
  },
  {
   "cell_type": "code",
   "execution_count": 28,
   "id": "4aa90ba6-a762-40f9-80b3-4e5aa2a2a8bc",
   "metadata": {},
   "outputs": [
    {
     "name": "stdout",
     "output_type": "stream",
     "text": [
      "[81, 64, 49, 36, 25]\n"
     ]
    }
   ],
   "source": [
    "def square_elements(numbers):\n",
    "    # Create a new list by squaring each number in the input list\n",
    "    squared_numbers = []\n",
    "    for number in numbers:\n",
    "        squared_numbers.append(number ** 2)\n",
    "    return squared_numbers\n",
    "\n",
    "# Example \n",
    "numbers = [9,8,7,6,5]\n",
    "squared_numbers = square_elements(numbers)\n",
    "print(squared_numbers)\n"
   ]
  },
  {
   "cell_type": "code",
   "execution_count": 10,
   "id": "fccecda9-6824-4578-8534-963fe3163586",
   "metadata": {},
   "outputs": [
    {
     "name": "stdout",
     "output_type": "stream",
     "text": [
      "[16, 18, 48, 50, 60]\n"
     ]
    }
   ],
   "source": [
    "def filter_odd_numbers(numbers):\n",
    "    return list(filter(lambda x: x % 2 == 0, numbers))\n",
    "\n",
    "# Example usage\n",
    "numbers = [11,16,15,18,59,48,50,49,60]\n",
    "even_numbers = filter_odd_numbers(numbers)\n",
    "print(even_numbers)  \n",
    "\n"
   ]
  },
  {
   "cell_type": "code",
   "execution_count": 12,
   "id": "dd12da7b-f0cc-4fb1-a189-ebce8fcec18b",
   "metadata": {},
   "outputs": [
    {
     "name": "stdout",
     "output_type": "stream",
     "text": [
      "Directory 'test_folder' created\n",
      "Paused for 3 seconds\n",
      "Directory 'test_folder' deleted\n"
     ]
    }
   ],
   "source": [
    "import os\n",
    "import time\n",
    "\n",
    "def file_operation():\n",
    "\n",
    "    #create folder\n",
    "    os.makedirs(\"Test_Folder\")\n",
    "    print(\"Directory 'test_folder' created\")\n",
    "\n",
    "    #paused for 3 seconds \n",
    "    print(\"Paused for 3 seconds\")\n",
    "    time.sleep(3)\n",
    "    \n",
    "    #folder is delete from system\n",
    "    os.rmdir(\"test_folder\")\n",
    "    print(\"Directory 'test_folder' deleted\")\n",
    "\n",
    "file_operation()"
   ]
  },
  {
   "cell_type": "code",
   "execution_count": null,
   "id": "ba596718-c516-4d90-a4a1-e55fe689f856",
   "metadata": {},
   "outputs": [
    {
     "name": "stdout",
     "output_type": "stream",
     "text": [
      "Paused Execution......\n"
     ]
    }
   ],
   "source": [
    "from time import sleep as pause\n",
    "\n",
    "def pause(times):\n",
    "\n",
    "    #first message \n",
    "    print(\"Paused Execution......\")\n",
    "\n",
    "    #paused execution of program \n",
    "    time.sleep(times)\n",
    "\n",
    "    #final message\n",
    "    print(\"Program End\")\n",
    "    \n",
    "#function call\n",
    "pause(10)"
   ]
  },
  {
   "cell_type": "code",
   "execution_count": null,
   "id": "fa7e261b-cc4d-4f32-9447-c501cb9d792d",
   "metadata": {},
   "outputs": [],
   "source": []
  }
 ],
 "metadata": {
  "kernelspec": {
   "display_name": "Python 3 (ipykernel)",
   "language": "python",
   "name": "python3"
  },
  "language_info": {
   "codemirror_mode": {
    "name": "ipython",
    "version": 3
   },
   "file_extension": ".py",
   "mimetype": "text/x-python",
   "name": "python",
   "nbconvert_exporter": "python",
   "pygments_lexer": "ipython3",
   "version": "3.12.4"
  }
 },
 "nbformat": 4,
 "nbformat_minor": 5
}
