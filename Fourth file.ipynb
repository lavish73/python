{
 "cells": [
  {
   "cell_type": "code",
   "execution_count": 1,
   "id": "8849cf67-6eae-4bc1-805b-06c336b55857",
   "metadata": {},
   "outputs": [
    {
     "name": "stdout",
     "output_type": "stream",
     "text": [
      "ID of List 2149627480256\n",
      "Data type of List <class 'list'>\n",
      "1\n",
      "[1, 2, 3, 4, 5, 100]\n",
      "[1, 2, 3, 4, 100]\n"
     ]
    }
   ],
   "source": [
    "# Creating a list of Number\n",
    "\n",
    "num = [1,2,3,4,5] \n",
    "print(\"ID of List\",id(num))\n",
    "print(\"Data type of List\",type(num))\n",
    "\n",
    "print(num[0]) \n",
    "\n",
    "num.append(100) #adding value in end of list\n",
    "print(num)  \n",
    "\n",
    "num.remove(5) #remove element \n",
    "print(num)  "
   ]
  },
  {
   "cell_type": "code",
   "execution_count": 3,
   "id": "c354cbe5-46fc-4c2b-8fe6-c6d23ce45766",
   "metadata": {},
   "outputs": [
    {
     "name": "stdout",
     "output_type": "stream",
     "text": [
      "[1, 300, 3, 4, 100]\n"
     ]
    }
   ],
   "source": [
    "num[1] = 300 #update value of list\n",
    "print(num) "
   ]
  },
  {
   "cell_type": "code",
   "execution_count": 5,
   "id": "24238c87-0004-43fb-b087-8f3f2bcee593",
   "metadata": {},
   "outputs": [
    {
     "name": "stdout",
     "output_type": "stream",
     "text": [
      "Help on list object:\n",
      "\n",
      "class list(object)\n",
      " |  list(iterable=(), /)\n",
      " |\n",
      " |  Built-in mutable sequence.\n",
      " |\n",
      " |  If no argument is given, the constructor creates a new empty list.\n",
      " |  The argument must be an iterable if specified.\n",
      " |\n",
      " |  Methods defined here:\n",
      " |\n",
      " |  __add__(self, value, /)\n",
      " |      Return self+value.\n",
      " |\n",
      " |  __contains__(self, key, /)\n",
      " |      Return bool(key in self).\n",
      " |\n",
      " |  __delitem__(self, key, /)\n",
      " |      Delete self[key].\n",
      " |\n",
      " |  __eq__(self, value, /)\n",
      " |      Return self==value.\n",
      " |\n",
      " |  __ge__(self, value, /)\n",
      " |      Return self>=value.\n",
      " |\n",
      " |  __getattribute__(self, name, /)\n",
      " |      Return getattr(self, name).\n",
      " |\n",
      " |  __getitem__(self, index, /)\n",
      " |      Return self[index].\n",
      " |\n",
      " |  __gt__(self, value, /)\n",
      " |      Return self>value.\n",
      " |\n",
      " |  __iadd__(self, value, /)\n",
      " |      Implement self+=value.\n",
      " |\n",
      " |  __imul__(self, value, /)\n",
      " |      Implement self*=value.\n",
      " |\n",
      " |  __init__(self, /, *args, **kwargs)\n",
      " |      Initialize self.  See help(type(self)) for accurate signature.\n",
      " |\n",
      " |  __iter__(self, /)\n",
      " |      Implement iter(self).\n",
      " |\n",
      " |  __le__(self, value, /)\n",
      " |      Return self<=value.\n",
      " |\n",
      " |  __len__(self, /)\n",
      " |      Return len(self).\n",
      " |\n",
      " |  __lt__(self, value, /)\n",
      " |      Return self<value.\n",
      " |\n",
      " |  __mul__(self, value, /)\n",
      " |      Return self*value.\n",
      " |\n",
      " |  __ne__(self, value, /)\n",
      " |      Return self!=value.\n",
      " |\n",
      " |  __repr__(self, /)\n",
      " |      Return repr(self).\n",
      " |\n",
      " |  __reversed__(self, /)\n",
      " |      Return a reverse iterator over the list.\n",
      " |\n",
      " |  __rmul__(self, value, /)\n",
      " |      Return value*self.\n",
      " |\n",
      " |  __setitem__(self, key, value, /)\n",
      " |      Set self[key] to value.\n",
      " |\n",
      " |  __sizeof__(self, /)\n",
      " |      Return the size of the list in memory, in bytes.\n",
      " |\n",
      " |  append(self, object, /)\n",
      " |      Append object to the end of the list.\n",
      " |\n",
      " |  clear(self, /)\n",
      " |      Remove all items from list.\n",
      " |\n",
      " |  copy(self, /)\n",
      " |      Return a shallow copy of the list.\n",
      " |\n",
      " |  count(self, value, /)\n",
      " |      Return number of occurrences of value.\n",
      " |\n",
      " |  extend(self, iterable, /)\n",
      " |      Extend list by appending elements from the iterable.\n",
      " |\n",
      " |  index(self, value, start=0, stop=9223372036854775807, /)\n",
      " |      Return first index of value.\n",
      " |\n",
      " |      Raises ValueError if the value is not present.\n",
      " |\n",
      " |  insert(self, index, object, /)\n",
      " |      Insert object before index.\n",
      " |\n",
      " |  pop(self, index=-1, /)\n",
      " |      Remove and return item at index (default last).\n",
      " |\n",
      " |      Raises IndexError if list is empty or index is out of range.\n",
      " |\n",
      " |  remove(self, value, /)\n",
      " |      Remove first occurrence of value.\n",
      " |\n",
      " |      Raises ValueError if the value is not present.\n",
      " |\n",
      " |  reverse(self, /)\n",
      " |      Reverse *IN PLACE*.\n",
      " |\n",
      " |  sort(self, /, *, key=None, reverse=False)\n",
      " |      Sort the list in ascending order and return None.\n",
      " |\n",
      " |      The sort is in-place (i.e. the list itself is modified) and stable (i.e. the\n",
      " |      order of two equal elements is maintained).\n",
      " |\n",
      " |      If a key function is given, apply it once to each list item and sort them,\n",
      " |      ascending or descending, according to their function values.\n",
      " |\n",
      " |      The reverse flag can be set to sort in descending order.\n",
      " |\n",
      " |  ----------------------------------------------------------------------\n",
      " |  Class methods defined here:\n",
      " |\n",
      " |  __class_getitem__(...)\n",
      " |      See PEP 585\n",
      " |\n",
      " |  ----------------------------------------------------------------------\n",
      " |  Static methods defined here:\n",
      " |\n",
      " |  __new__(*args, **kwargs)\n",
      " |      Create and return a new object.  See help(type) for accurate signature.\n",
      " |\n",
      " |  ----------------------------------------------------------------------\n",
      " |  Data and other attributes defined here:\n",
      " |\n",
      " |  __hash__ = None\n",
      "\n"
     ]
    }
   ],
   "source": [
    "help(num) #full description of list "
   ]
  },
  {
   "cell_type": "code",
   "execution_count": 7,
   "id": "32f68beb-4170-4c87-826d-97f7da5598f2",
   "metadata": {},
   "outputs": [
    {
     "name": "stdout",
     "output_type": "stream",
     "text": [
      "2149627740032\n"
     ]
    },
    {
     "data": {
      "text/plain": [
       "1"
      ]
     },
     "execution_count": 7,
     "metadata": {},
     "output_type": "execute_result"
    }
   ],
   "source": [
    "#Tuple \n",
    "tuple1 = (1,2,3)\n",
    "print(id(tuple1))\n",
    "tuple1[0]# accessing element of Tuple "
   ]
  },
  {
   "cell_type": "code",
   "execution_count": 9,
   "id": "ed0a4c9e-d763-4496-bdd6-d876e626c02e",
   "metadata": {},
   "outputs": [
    {
     "data": {
      "text/plain": [
       "'HEllo world'"
      ]
     },
     "execution_count": 9,
     "metadata": {},
     "output_type": "execute_result"
    }
   ],
   "source": [
    "string1 = \"HEllo world\"\n",
    "lenstr = len(string1) #length of String \n",
    "string1[0:lenstr] #accessing String "
   ]
  },
  {
   "cell_type": "code",
   "execution_count": 13,
   "id": "5fa4735a-846e-43b0-b3ed-0808122d31bd",
   "metadata": {},
   "outputs": [
    {
     "name": "stdout",
     "output_type": "stream",
     "text": [
      "H\n",
      "E\n",
      "l\n",
      "l\n",
      "o\n",
      " \n",
      "w\n",
      "o\n",
      "r\n",
      "l\n",
      "d\n"
     ]
    }
   ],
   "source": [
    "for i in range(0, len(string1)):\n",
    "    print(string1[i])"
   ]
  },
  {
   "cell_type": "code",
   "execution_count": 15,
   "id": "461c42d2-f4ed-4f78-bbce-4b6bd015c798",
   "metadata": {},
   "outputs": [
    {
     "name": "stdout",
     "output_type": "stream",
     "text": [
      "Help on set object:\n",
      "\n",
      "class set(object)\n",
      " |  set() -> new empty set object\n",
      " |  set(iterable) -> new set object\n",
      " |\n",
      " |  Build an unordered collection of unique elements.\n",
      " |\n",
      " |  Methods defined here:\n",
      " |\n",
      " |  __and__(self, value, /)\n",
      " |      Return self&value.\n",
      " |\n",
      " |  __contains__(...)\n",
      " |      x.__contains__(y) <==> y in x.\n",
      " |\n",
      " |  __eq__(self, value, /)\n",
      " |      Return self==value.\n",
      " |\n",
      " |  __ge__(self, value, /)\n",
      " |      Return self>=value.\n",
      " |\n",
      " |  __getattribute__(self, name, /)\n",
      " |      Return getattr(self, name).\n",
      " |\n",
      " |  __gt__(self, value, /)\n",
      " |      Return self>value.\n",
      " |\n",
      " |  __iand__(self, value, /)\n",
      " |      Return self&=value.\n",
      " |\n",
      " |  __init__(self, /, *args, **kwargs)\n",
      " |      Initialize self.  See help(type(self)) for accurate signature.\n",
      " |\n",
      " |  __ior__(self, value, /)\n",
      " |      Return self|=value.\n",
      " |\n",
      " |  __isub__(self, value, /)\n",
      " |      Return self-=value.\n",
      " |\n",
      " |  __iter__(self, /)\n",
      " |      Implement iter(self).\n",
      " |\n",
      " |  __ixor__(self, value, /)\n",
      " |      Return self^=value.\n",
      " |\n",
      " |  __le__(self, value, /)\n",
      " |      Return self<=value.\n",
      " |\n",
      " |  __len__(self, /)\n",
      " |      Return len(self).\n",
      " |\n",
      " |  __lt__(self, value, /)\n",
      " |      Return self<value.\n",
      " |\n",
      " |  __ne__(self, value, /)\n",
      " |      Return self!=value.\n",
      " |\n",
      " |  __or__(self, value, /)\n",
      " |      Return self|value.\n",
      " |\n",
      " |  __rand__(self, value, /)\n",
      " |      Return value&self.\n",
      " |\n",
      " |  __reduce__(...)\n",
      " |      Return state information for pickling.\n",
      " |\n",
      " |  __repr__(self, /)\n",
      " |      Return repr(self).\n",
      " |\n",
      " |  __ror__(self, value, /)\n",
      " |      Return value|self.\n",
      " |\n",
      " |  __rsub__(self, value, /)\n",
      " |      Return value-self.\n",
      " |\n",
      " |  __rxor__(self, value, /)\n",
      " |      Return value^self.\n",
      " |\n",
      " |  __sizeof__(...)\n",
      " |      S.__sizeof__() -> size of S in memory, in bytes\n",
      " |\n",
      " |  __sub__(self, value, /)\n",
      " |      Return self-value.\n",
      " |\n",
      " |  __xor__(self, value, /)\n",
      " |      Return self^value.\n",
      " |\n",
      " |  add(...)\n",
      " |      Add an element to a set.\n",
      " |\n",
      " |      This has no effect if the element is already present.\n",
      " |\n",
      " |  clear(...)\n",
      " |      Remove all elements from this set.\n",
      " |\n",
      " |  copy(...)\n",
      " |      Return a shallow copy of a set.\n",
      " |\n",
      " |  difference(...)\n",
      " |      Return the difference of two or more sets as a new set.\n",
      " |\n",
      " |      (i.e. all elements that are in this set but not the others.)\n",
      " |\n",
      " |  difference_update(...)\n",
      " |      Remove all elements of another set from this set.\n",
      " |\n",
      " |  discard(...)\n",
      " |      Remove an element from a set if it is a member.\n",
      " |\n",
      " |      Unlike set.remove(), the discard() method does not raise\n",
      " |      an exception when an element is missing from the set.\n",
      " |\n",
      " |  intersection(...)\n",
      " |      Return the intersection of two sets as a new set.\n",
      " |\n",
      " |      (i.e. all elements that are in both sets.)\n",
      " |\n",
      " |  intersection_update(...)\n",
      " |      Update a set with the intersection of itself and another.\n",
      " |\n",
      " |  isdisjoint(...)\n",
      " |      Return True if two sets have a null intersection.\n",
      " |\n",
      " |  issubset(self, other, /)\n",
      " |      Test whether every element in the set is in other.\n",
      " |\n",
      " |  issuperset(self, other, /)\n",
      " |      Test whether every element in other is in the set.\n",
      " |\n",
      " |  pop(...)\n",
      " |      Remove and return an arbitrary set element.\n",
      " |      Raises KeyError if the set is empty.\n",
      " |\n",
      " |  remove(...)\n",
      " |      Remove an element from a set; it must be a member.\n",
      " |\n",
      " |      If the element is not a member, raise a KeyError.\n",
      " |\n",
      " |  symmetric_difference(...)\n",
      " |      Return the symmetric difference of two sets as a new set.\n",
      " |\n",
      " |      (i.e. all elements that are in exactly one of the sets.)\n",
      " |\n",
      " |  symmetric_difference_update(...)\n",
      " |      Update a set with the symmetric difference of itself and another.\n",
      " |\n",
      " |  union(...)\n",
      " |      Return the union of sets as a new set.\n",
      " |\n",
      " |      (i.e. all elements that are in either set.)\n",
      " |\n",
      " |  update(...)\n",
      " |      Update a set with the union of itself and others.\n",
      " |\n",
      " |  ----------------------------------------------------------------------\n",
      " |  Class methods defined here:\n",
      " |\n",
      " |  __class_getitem__(...)\n",
      " |      See PEP 585\n",
      " |\n",
      " |  ----------------------------------------------------------------------\n",
      " |  Static methods defined here:\n",
      " |\n",
      " |  __new__(*args, **kwargs)\n",
      " |      Create and return a new object.  See help(type) for accurate signature.\n",
      " |\n",
      " |  ----------------------------------------------------------------------\n",
      " |  Data and other attributes defined here:\n",
      " |\n",
      " |  __hash__ = None\n",
      "\n",
      "{'u', 'i', 'o', 'a', 'e'}\n"
     ]
    }
   ],
   "source": [
    "#set\n",
    "vowels = {\"a\", \"e\", \"i\", \"o\", \"u\"}\n",
    "help(vowels)\n",
    "print(vowels)"
   ]
  },
  {
   "cell_type": "code",
   "execution_count": 17,
   "id": "bd6a734c-0a00-4de9-99a9-6b08363ca04a",
   "metadata": {},
   "outputs": [
    {
     "name": "stdout",
     "output_type": "stream",
     "text": [
      "{'name': 'lavish', 'name1': 'dev'}\n"
     ]
    }
   ],
   "source": [
    "#Dictionary\n",
    "dict1 = {\n",
    "    \"name\" : \"lavish\",\"name1\" : \"dev\"\n",
    "}\n",
    "print(dict1)"
   ]
  },
  {
   "cell_type": "code",
   "execution_count": 21,
   "id": "b599cd15-1157-487c-abf8-fdd530513fcb",
   "metadata": {},
   "outputs": [
    {
     "name": "stdout",
     "output_type": "stream",
     "text": [
      "lavish\n"
     ]
    }
   ],
   "source": [
    "person = {\n",
    "    \"name\": \"lavish\",\n",
    "    \"age\": \"23\",\n",
    "    \"city\": \"Rishikesh\",\n",
    "\n",
    "    \"name2\": \"dev\",\n",
    "    \"age2\": \"21\",\n",
    "    \"city2\": \"Rajkot\"\n",
    "}\n",
    "print(person[\"name\"])"
   ]
  },
  {
   "cell_type": "code",
   "execution_count": 23,
   "id": "1872daa8-4860-431b-a63f-10b2d0817fac",
   "metadata": {},
   "outputs": [
    {
     "name": "stdout",
     "output_type": "stream",
     "text": [
      " key is name val is lavish\n",
      " key is age val is 23\n",
      " key is city val is Rishikesh\n",
      " key is name2 val is dev\n",
      " key is age2 val is 21\n",
      " key is city2 val is Rajkot\n"
     ]
    }
   ],
   "source": [
    "for key, val in person.items():\n",
    "    print(f\" key is {key} val is {val}\")"
   ]
  },
  {
   "cell_type": "code",
   "execution_count": 25,
   "id": "8bd11a00-afb4-4ab6-9054-9dd5f69108d0",
   "metadata": {},
   "outputs": [
    {
     "name": "stdout",
     "output_type": "stream",
     "text": [
      "key is namevalue is lavish\n",
      "key is agevalue is 23\n",
      "key is cityvalue is Rishikesh\n",
      "key is name2value is dev\n",
      "key is age2value is 21\n",
      "key is city2value is Rajkot\n"
     ]
    }
   ],
   "source": [
    "#other way\n",
    "for key, val in person.items():\n",
    "    print(\"key is \" + key + \"value is \"+ val)"
   ]
  },
  {
   "cell_type": "code",
   "execution_count": 27,
   "id": "753cd8e7-e2a0-4757-b65c-2cf871adcf40",
   "metadata": {},
   "outputs": [
    {
     "name": "stdout",
     "output_type": "stream",
     "text": [
      "key is lavish value is rishikesh\n"
     ]
    }
   ],
   "source": [
    "key = \"lavish\"\n",
    "val = \"rishikesh\"\n",
    "\n",
    "fstr = \"key is {} value is {}\"\n",
    "print(fstr.format(key,val))"
   ]
  },
  {
   "cell_type": "code",
   "execution_count": 29,
   "id": "d9d20ca2-51c9-4465-986d-c7296f02ed28",
   "metadata": {},
   "outputs": [
    {
     "name": "stdout",
     "output_type": "stream",
     "text": [
      "[[1, 2], [3, 4]]\n",
      "2\n"
     ]
    }
   ],
   "source": [
    "row1 = [1,2]\n",
    "row2 = [3,4]\n",
    "matrix = [row1, row2]\n",
    "print(matrix)\n",
    "print(len(matrix))"
   ]
  },
  {
   "cell_type": "code",
   "execution_count": 33,
   "id": "8c72d675-ed99-430c-859b-7d4e8a5bf864",
   "metadata": {},
   "outputs": [
    {
     "data": {
      "text/plain": [
       "[10, [3, 4]]"
      ]
     },
     "execution_count": 33,
     "metadata": {},
     "output_type": "execute_result"
    }
   ],
   "source": [
    "matrix[0]=10\n",
    "matrix"
   ]
  },
  {
   "cell_type": "code",
   "execution_count": 35,
   "id": "afcfaf08-8c16-4f4c-84c9-a8357f21d2fc",
   "metadata": {},
   "outputs": [
    {
     "name": "stdout",
     "output_type": "stream",
     "text": [
      "Before Append ListA : 2149627739136 <class 'list'> [1, 2, 3, 4, 6, 7, 8, [123, 8434]]\n",
      "Before Append ListB : 2149627739136 <class 'list'> [1, 2, 3, 4, 6, 7, 8, [123, 8434]]\n",
      "After Append ListB : 2149627739136 <class 'list'> [0, 2, 3, 4, 6, 7, 8, [123, 8434]]\n",
      "After Append ListA : 2149627739136 <class 'list'> [0, 2, 3, 4, 6, 7, 8, [123, 8434, 1000]]\n",
      "After Append ListB : 2149627739136 <class 'list'> [0, 2, 3, 4, 6, 7, 8, [123, 8434, 1000]]\n"
     ]
    }
   ],
   "source": [
    "ListA = [1,2,3,4,6,7,8,[123,8434]]\n",
    "\n",
    "print(\"Before Append ListA :\",id(ListA),type(ListA),ListA)\n",
    "\n",
    "\n",
    "ListB = ListA\n",
    "print(\"Before Append ListB :\",id(ListB),type(ListB),ListB)\n",
    "ListB[0] = 0\n",
    "print(\"After Append ListB :\",id(ListB),type(ListB),ListB)\n",
    "\n",
    "#print\n",
    "ListB[len(ListB)-1].append(1000)\n",
    "\n",
    "print(\"After Append ListA :\",id(ListA),type(ListA),ListA)\n",
    "print(\"After Append ListB :\",id(ListB),type(ListB),ListB)"
   ]
  },
  {
   "cell_type": "code",
   "execution_count": null,
   "id": "f7c2d2be-c2d2-40b7-a3cc-611cce3824d4",
   "metadata": {},
   "outputs": [],
   "source": []
  }
 ],
 "metadata": {
  "kernelspec": {
   "display_name": "Python 3 (ipykernel)",
   "language": "python",
   "name": "python3"
  },
  "language_info": {
   "codemirror_mode": {
    "name": "ipython",
    "version": 3
   },
   "file_extension": ".py",
   "mimetype": "text/x-python",
   "name": "python",
   "nbconvert_exporter": "python",
   "pygments_lexer": "ipython3",
   "version": "3.12.4"
  }
 },
 "nbformat": 4,
 "nbformat_minor": 5
}
