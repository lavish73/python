{
 "cells": [
  {
   "cell_type": "code",
   "execution_count": 13,
   "id": "90f6414a-ded4-4174-a0c7-b1ffb2a402c3",
   "metadata": {},
   "outputs": [
    {
     "name": "stdout",
     "output_type": "stream",
     "text": [
      "A > B\n",
      "this condition is true\n",
      "A != B\n",
      "this condition is true\n"
     ]
    }
   ],
   "source": [
    "# if block\n",
    "a=10\n",
    "b=1\n",
    "if a > b:\n",
    "    print(\"A > B\")\n",
    "    print(\"this condition is true\")\n",
    "if a < b:\n",
    "    print(\"A < B\")\n",
    "    print(\"this condition is true\")\n",
    "if a == b:\n",
    "    print(\"A == B\")\n",
    "    print(\"this condition is true\")\n",
    "if a != b:\n",
    "    print(\"A != B\")\n",
    "    print(\"this condition is true\")"
   ]
  },
  {
   "cell_type": "code",
   "execution_count": 17,
   "id": "da629174-64a9-470a-b0ef-e0f844e80659",
   "metadata": {},
   "outputs": [
    {
     "name": "stdout",
     "output_type": "stream",
     "text": [
      "A is Largest\n"
     ]
    }
   ],
   "source": [
    "# And, OR, Not operator\n",
    "a = 100\n",
    "b = 2\n",
    "c = 30\n",
    "\n",
    "if a > b and a > c:\n",
    "    print(\"A is Largest\")\n",
    "elif b > a and b > c:\n",
    "    print(\"B is Largest\")\n",
    "else:\n",
    "    print(\"C is Largest\")\n"
   ]
  },
  {
   "cell_type": "code",
   "execution_count": null,
   "id": "a352e21c-c1a3-4e11-8e81-55aa9e36e5d3",
   "metadata": {},
   "outputs": [],
   "source": [
    "#nested If else Block\n",
    "a = 100\n",
    "b = 2\n",
    "c = 30\n",
    "\n",
    "if a > b:\n",
    "    if a > c:\n",
    "        print(\"A is Largest\")\n",
    "    else:\n",
    "        print(\"C is Largest\")\n",
    "elif b > c:\n",
    "    print(\"B is Largest\")\n",
    "else:\n",
    "    print(\"C is Largest\")\n"
   ]
  },
  {
   "cell_type": "code",
   "execution_count": 6,
   "id": "3e91d802-9884-467c-bf78-81ed515bbb5d",
   "metadata": {},
   "outputs": [
    {
     "name": "stdout",
     "output_type": "stream",
     "text": [
      "value is 10\n",
      "id is 140731082685144\n",
      "Type is <class 'int'>\n",
      "value is 1\n",
      "id is 140731082684856\n",
      "Type is <class 'int'>\n",
      "value is 100\n",
      "id is 140731082688024\n",
      "Type is <class 'int'>\n"
     ]
    }
   ],
   "source": [
    "#function\n",
    "\"\"\" \n",
    "def is short for definition\n",
    "\"\"\"\n",
    "\n",
    "def myprint(inputvar):\n",
    "    a=inputvar\n",
    "    print(f\"value is {a}\")\n",
    "    print(f\"id is {id(a)}\")\n",
    "    print(f\"Type is {type(a)}\")\n",
    "\n",
    "myprint(10)\n",
    "myprint(1)\n",
    "myprint(100)"
   ]
  },
  {
   "cell_type": "code",
   "execution_count": 8,
   "id": "166fce95-1967-4b6f-b9b3-3ca7f7db899f",
   "metadata": {},
   "outputs": [
    {
     "name": "stdin",
     "output_type": "stream",
     "text": [
      "Enter Name dev gojiya\n"
     ]
    }
   ],
   "source": [
    "d = input(\"Enter Name\")"
   ]
  },
  {
   "cell_type": "code",
   "execution_count": 10,
   "id": "dd49db44-8dc4-46ea-8dd1-c10e98c94c7c",
   "metadata": {},
   "outputs": [
    {
     "data": {
      "text/plain": [
       "'dev gojiya'"
      ]
     },
     "execution_count": 10,
     "metadata": {},
     "output_type": "execute_result"
    }
   ],
   "source": [
    "d"
   ]
  },
  {
   "cell_type": "code",
   "execution_count": 14,
   "id": "830e0f95-2903-4262-a63f-e6b889590dd6",
   "metadata": {},
   "outputs": [
    {
     "name": "stdin",
     "output_type": "stream",
     "text": [
      "Enter Number : 874454513123\n"
     ]
    }
   ],
   "source": [
    "number = int(input(\"Enter Number :\"))"
   ]
  },
  {
   "cell_type": "code",
   "execution_count": 16,
   "id": "53e16161-8e6c-42fe-89b3-2a33d1048e51",
   "metadata": {},
   "outputs": [
    {
     "data": {
      "text/plain": [
       "874454513123"
      ]
     },
     "execution_count": 16,
     "metadata": {},
     "output_type": "execute_result"
    }
   ],
   "source": [
    "number"
   ]
  },
  {
   "cell_type": "code",
   "execution_count": 22,
   "id": "dbbc4b81-cfff-4989-94a9-90320805dfc0",
   "metadata": {},
   "outputs": [
    {
     "name": "stdin",
     "output_type": "stream",
     "text": [
      "Enter Your First Name : dev\n",
      "Enter Your Last Name :  gojiya\n"
     ]
    },
    {
     "name": "stdout",
     "output_type": "stream",
     "text": [
      "Hello Dev Gojiya\n"
     ]
    }
   ],
   "source": [
    "#write a program user input first name and last name and great with like hii user and his name should be upper case\n",
    "\n",
    "firstname = input(\"Enter Your First Name :\")\n",
    "lastname = input(\"Enter Your Last Name : \")\n",
    "\n",
    "firstname = firstname.capitalize()\n",
    "lastname = lastname.capitalize()\n",
    "\n",
    "fullname = \"Hello \"+firstname +\" \"+ lastname\n",
    "print(fullname)"
   ]
  },
  {
   "cell_type": "code",
   "execution_count": null,
   "id": "60263c27-1a64-4c3f-a1cd-a4eb813d6541",
   "metadata": {},
   "outputs": [],
   "source": [
    "#write a program int from user and print out it table part 2 if not int than message him that you have to enter vaild input and give him a changes to re enter"
   ]
  },
  {
   "cell_type": "code",
   "execution_count": 24,
   "id": "a7544bcf-ea35-4b50-aa5f-201fb16845cc",
   "metadata": {},
   "outputs": [
    {
     "name": "stdin",
     "output_type": "stream",
     "text": [
      "Enter an integer:  ghj\n"
     ]
    },
    {
     "name": "stdout",
     "output_type": "stream",
     "text": [
      "Invalid input. Please enter a valid integer.\n"
     ]
    },
    {
     "name": "stdin",
     "output_type": "stream",
     "text": [
      "Enter an integer:  78\n"
     ]
    },
    {
     "name": "stdout",
     "output_type": "stream",
     "text": [
      "\n",
      " Multiplication Table for 78:\n",
      "78 x 1 = 78\n",
      "78 x 2 = 156\n",
      "78 x 3 = 234\n",
      "78 x 4 = 312\n",
      "78 x 5 = 390\n",
      "78 x 6 = 468\n",
      "78 x 7 = 546\n",
      "78 x 8 = 624\n",
      "78 x 9 = 702\n",
      "78 x 10 = 780\n"
     ]
    }
   ],
   "source": [
    "# Loop until a valid integer is entered\n",
    "while True:\n",
    "    try:\n",
    "        # Get user input\n",
    "        number = int(input(\"Enter an integer: \"))\n",
    "        break  # Exit the loop if input is valid\n",
    "    except ValueError:\n",
    "        # Handle non-integer input\n",
    "        print(\"Invalid input. Please enter a valid integer.\")\n",
    "\n",
    "# Generate and print the multiplication table\n",
    "print(f\"\\n Multiplication Table for {number}:\")\n",
    "for i in range(1, 11):  # Loop from 1 to 10\n",
    "    result = number * i\n",
    "    print(f\"{number} x {i} = {result}\")\n"
   ]
  },
  {
   "cell_type": "code",
   "execution_count": null,
   "id": "95ec8b2d-0a80-4575-a3a0-8dae2dc1a98c",
   "metadata": {},
   "outputs": [],
   "source": []
  }
 ],
 "metadata": {
  "kernelspec": {
   "display_name": "Python 3 (ipykernel)",
   "language": "python",
   "name": "python3"
  },
  "language_info": {
   "codemirror_mode": {
    "name": "ipython",
    "version": 3
   },
   "file_extension": ".py",
   "mimetype": "text/x-python",
   "name": "python",
   "nbconvert_exporter": "python",
   "pygments_lexer": "ipython3",
   "version": "3.12.4"
  }
 },
 "nbformat": 4,
 "nbformat_minor": 5
}
