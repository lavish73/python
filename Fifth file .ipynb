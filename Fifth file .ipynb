{
 "cells": [
  {
   "cell_type": "code",
   "execution_count": 1,
   "id": "cf31f8f1-1d79-499b-af31-16dabd8f4b5b",
   "metadata": {},
   "outputs": [],
   "source": [
    "def showDetails(*args):\n",
    "    for i in range(len(args)):\n",
    "        variable = args[i]\n",
    "        print(f\"The Value of { i+1 } variable is \\t{variable }\\t its id is \\t {id(variable)}\")\n",
    "    \n",
    "    print(\"\\n\\n\")\n"
   ]
  },
  {
   "cell_type": "code",
   "execution_count": 3,
   "id": "0805a882-98b7-4bd5-8d97-0a3e3228149e",
   "metadata": {},
   "outputs": [
    {
     "name": "stdout",
     "output_type": "stream",
     "text": [
      "The Value of 1 variable is \t[2, 4, 6, [1, 3]]\t its id is \t 1841328099584\n",
      "The Value of 2 variable is \t[2, 4, 6, [1, 3]]\t its id is \t 1841328099584\n",
      "\n",
      "\n",
      "\n",
      "The Value of 1 variable is \t[2, 44, 6, [1, 3]]\t its id is \t 1841328099584\n",
      "The Value of 2 variable is \t[2, 44, 6, [1, 3]]\t its id is \t 1841328099584\n",
      "\n",
      "\n",
      "\n",
      "The Value of 1 variable is \t[2, 44, 6, [1, 10]]\t its id is \t 1841328099584\n",
      "The Value of 2 variable is \t[2, 44, 6, [1, 10]]\t its id is \t 1841328099584\n",
      "\n",
      "\n",
      "\n"
     ]
    }
   ],
   "source": [
    "#list operartion\n",
    "listA = [2, 4, 6, [1, 3]]\n",
    "listB = listA\n",
    "showDetails(listA,listB)\n",
    "listB[1] = 44\n",
    "\n",
    "showDetails(listA,listB)\n",
    "listB[3][1] = 10\n",
    "\n",
    "\n",
    "showDetails(listA,listB)"
   ]
  },
  {
   "cell_type": "code",
   "execution_count": 5,
   "id": "473c28e6-1a73-4067-8fcc-47031e1a33c6",
   "metadata": {},
   "outputs": [
    {
     "name": "stdout",
     "output_type": "stream",
     "text": [
      "The Value of 1 variable is \t[2, 4, 6, [1, 3]]\t its id is \t 1841328054336\n",
      "The Value of 2 variable is \t[2, 4, 6, [1, 3]]\t its id is \t 1841328059200\n",
      "\n",
      "\n",
      "\n",
      "The Value of 1 variable is \t[2, 4, 6, [55, 3]]\t its id is \t 1841328054336\n",
      "The Value of 2 variable is \t[2, 44, 6, [55, 3]]\t its id is \t 1841328059200\n",
      "\n",
      "\n",
      "\n"
     ]
    }
   ],
   "source": [
    "import copy\n",
    "listA = [2, 4, 6, [1, 3]]\n",
    "listB = copy.copy(listA)\n",
    "\n",
    "showDetails(listA,listB)\n",
    "listB[1] = 44\n",
    "listB[3][0] = 55\n",
    "showDetails(listA,listB)"
   ]
  },
  {
   "cell_type": "code",
   "execution_count": 7,
   "id": "faa054ee-a765-4e0b-a251-996ad9a92d7f",
   "metadata": {},
   "outputs": [
    {
     "name": "stdout",
     "output_type": "stream",
     "text": [
      "The Value of 1 variable is \t[2, 4, 6, [1, 3]]\t its id is \t 1841328099456\n",
      "The Value of 2 variable is \t[2, 4, 6, [1, 3]]\t its id is \t 1841328096704\n",
      "\n",
      "\n",
      "\n",
      "The Value of 1 variable is \t[2, 4, 6, [1, 3]]\t its id is \t 1841328099456\n",
      "The Value of 2 variable is \t[2, 44, 6, [55, 3]]\t its id is \t 1841328096704\n",
      "\n",
      "\n",
      "\n"
     ]
    }
   ],
   "source": [
    "import copy\n",
    "listA = [2, 4, 6, [1, 3]]\n",
    "listB = copy.deepcopy(listA)\n",
    "showDetails(listA,listB)\n",
    "listB[1] = 44\n",
    "listB[3][0] = 55\n",
    "showDetails(listA,listB)"
   ]
  },
  {
   "cell_type": "code",
   "execution_count": 11,
   "id": "f92e53b5-ba82-4a82-b707-725056a30ca5",
   "metadata": {},
   "outputs": [],
   "source": [
    "def greet(name):\n",
    "\n",
    "    \"\"\"Greets a person by their name.\"\"\"\n",
    "    return f\"Hello, {name}!\"\n",
    "   "
   ]
  },
  {
   "cell_type": "code",
   "execution_count": 15,
   "id": "307e705d-7d4f-4fd2-a3d1-ea71acef829a",
   "metadata": {},
   "outputs": [
    {
     "name": "stdout",
     "output_type": "stream",
     "text": [
      "Hello, Lavish!\n"
     ]
    }
   ],
   "source": [
    "message = greet(\"Lavish\")\n",
    "print(message)  # Output: Hello, Lavish!\n"
   ]
  },
  {
   "cell_type": "code",
   "execution_count": 17,
   "id": "1062745d-7425-42fd-b7ee-8b40ccfbfc53",
   "metadata": {},
   "outputs": [
    {
     "name": "stdout",
     "output_type": "stream",
     "text": [
      "74\n"
     ]
    },
    {
     "data": {
      "text/plain": [
       "(None,)"
      ]
     },
     "execution_count": 17,
     "metadata": {},
     "output_type": "execute_result"
    }
   ],
   "source": [
    "#write a function to add two values and use the this function and print the result \n",
    "def add(num1, num2):\n",
    "    sum = num1 + num2\n",
    "    print(sum)\n",
    "\n",
    "add(15,59),"
   ]
  },
  {
   "cell_type": "code",
   "execution_count": null,
   "id": "025fd946-6ea5-498d-be57-289d7204ec2e",
   "metadata": {},
   "outputs": [],
   "source": []
  }
 ],
 "metadata": {
  "kernelspec": {
   "display_name": "Python 3 (ipykernel)",
   "language": "python",
   "name": "python3"
  },
  "language_info": {
   "codemirror_mode": {
    "name": "ipython",
    "version": 3
   },
   "file_extension": ".py",
   "mimetype": "text/x-python",
   "name": "python",
   "nbconvert_exporter": "python",
   "pygments_lexer": "ipython3",
   "version": "3.12.4"
  }
 },
 "nbformat": 4,
 "nbformat_minor": 5
}
