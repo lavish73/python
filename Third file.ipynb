{
 "cells": [
  {
   "cell_type": "code",
   "execution_count": 3,
   "id": "e932ef6e-dc5f-4e99-80b3-43ab765c421a",
   "metadata": {},
   "outputs": [
    {
     "name": "stdout",
     "output_type": "stream",
     "text": [
      "0b101\n"
     ]
    }
   ],
   "source": [
    "a = 5\n",
    "bina = bin(a)\n",
    "print(bina)"
   ]
  },
  {
   "cell_type": "code",
   "execution_count": 7,
   "id": "39cc11fa-7dd7-46c4-bfb0-f1d31330ffba",
   "metadata": {},
   "outputs": [
    {
     "data": {
      "text/plain": [
       "(7, 7)"
      ]
     },
     "execution_count": 7,
     "metadata": {},
     "output_type": "execute_result"
    }
   ],
   "source": [
    "\n",
    "a = 6 #1 1 0\n",
    "b = 1 #0 0 1\n",
    "c = a | b #1 1 1\n",
    "d = a ^ b # XOR\n",
    "c,d"
   ]
  },
  {
   "cell_type": "code",
   "execution_count": 9,
   "id": "efd56d24-645a-4cf0-b3ab-5dbbdf8be9b4",
   "metadata": {},
   "outputs": [],
   "source": [
    "#dec to binary\n",
    "# 1 1\n",
    "# 2 10\n",
    "# 4, 100\n",
    "# 8 1000\n",
    "# 16 10000\n",
    "# 32 100000\n",
    "# 64 1000000\n",
    "# 128 10000000"
   ]
  },
  {
   "cell_type": "code",
   "execution_count": 12,
   "id": "93201d35-fb70-4729-bd56-4cc161247c0c",
   "metadata": {},
   "outputs": [
    {
     "name": "stdout",
     "output_type": "stream",
     "text": [
      "32\n"
     ]
    }
   ],
   "source": [
    "\n",
    "# Right Shift\n",
    "a = 128\n",
    "lshifta = a >> 2#right shift\n",
    "print(lshifta)"
   ]
  },
  {
   "cell_type": "code",
   "execution_count": 14,
   "id": "020307d7-050c-4017-aad5-81e24012b120",
   "metadata": {},
   "outputs": [
    {
     "name": "stdout",
     "output_type": "stream",
     "text": [
      "512\n"
     ]
    }
   ],
   "source": [
    "#Left Shift\n",
    "\n",
    "a = 128\n",
    "rshifta = a << 2#Left shift\n",
    "print(rshifta)"
   ]
  },
  {
   "cell_type": "code",
   "execution_count": 16,
   "id": "ba29fc38-0edd-434c-b700-d28beaa27a3a",
   "metadata": {},
   "outputs": [
    {
     "name": "stdin",
     "output_type": "stream",
     "text": [
      "Enter a Number 8\n"
     ]
    },
    {
     "name": "stdout",
     "output_type": "stream",
     "text": [
      "1 x 8 = 8\n",
      "2 x 8 = 16\n",
      "3 x 8 = 24\n",
      "4 x 8 = 32\n",
      "5 x 8 = 40\n",
      "6 x 8 = 48\n",
      "7 x 8 = 56\n",
      "8 x 8 = 64\n",
      "9 x 8 = 72\n",
      "10 x 8 = 80\n"
     ]
    }
   ],
   "source": [
    "#break Statement\n",
    "a = 1 \n",
    "b = int(input(\"Enter a Number\"))\n",
    "while a <= 100:\n",
    "    print(f\"{a} x {b} = {a*b}\")\n",
    "    a += 1\n",
    "    if a > 10:\n",
    "        break #terminates loop or and loop\n",
    "    "
   ]
  },
  {
   "cell_type": "code",
   "execution_count": null,
   "id": "309be49a-a1d1-491b-adbe-50a17498fea0",
   "metadata": {},
   "outputs": [
    {
     "name": "stdin",
     "output_type": "stream",
     "text": [
      "Enter a Number 9\n"
     ]
    },
    {
     "name": "stdout",
     "output_type": "stream",
     "text": [
      "1 x 9 = 9\n",
      "2 x 9 = 18\n",
      "3 x 9 = 27\n",
      "4 x 9 = 36\n",
      "5 x 9 = 45\n"
     ]
    }
   ],
   "source": [
    "#Continue Statement\n",
    "a = 1 \n",
    "b = int(input(\"Enter a Number\"))\n",
    "while a <= 10:\n",
    "    if a > 5:\n",
    "        continue #continue Use to Jump \n",
    "    print(f\"{a} x {b} = {a*b}\")\n",
    "    a += 1"
   ]
  },
  {
   "cell_type": "code",
   "execution_count": null,
   "id": "b6113d87-7562-45f4-80d7-3c61fba7560c",
   "metadata": {},
   "outputs": [],
   "source": []
  }
 ],
 "metadata": {
  "kernelspec": {
   "display_name": "Python 3 (ipykernel)",
   "language": "python",
   "name": "python3"
  },
  "language_info": {
   "codemirror_mode": {
    "name": "ipython",
    "version": 3
   },
   "file_extension": ".py",
   "mimetype": "text/x-python",
   "name": "python",
   "nbconvert_exporter": "python",
   "pygments_lexer": "ipython3",
   "version": "3.12.4"
  }
 },
 "nbformat": 4,
 "nbformat_minor": 5
}
